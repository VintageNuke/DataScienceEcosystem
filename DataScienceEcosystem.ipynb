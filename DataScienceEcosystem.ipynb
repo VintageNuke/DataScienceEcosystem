{
 "cells": [
  {
   "cell_type": "markdown",
   "id": "7433484d-e92e-469b-9ab3-5c855d850949",
   "metadata": {
    "tags": []
   },
   "source": [
    "# Data Science Tools And Ecosystem"
   ]
  },
  {
   "cell_type": "markdown",
   "id": "14db123e-eeac-4c27-a828-c9b1da649503",
   "metadata": {},
   "source": [
    "In this notebook, Data Science tools and ecosystem are summarized."
   ]
  },
  {
   "cell_type": "markdown",
   "id": "1d22555d-bce3-4227-985d-ac95ee92f997",
   "metadata": {},
   "source": [
    "**Objectives:**\n",
    " - List common libraries\n",
    " - Run basic code\n",
    " - Learn markdown\n",
    " \n",
    " ## Author\n",
    " Sam"
   ]
  },
  {
   "cell_type": "markdown",
   "id": "2b13a0e1-ce1f-42a9-be84-da5b25329bb8",
   "metadata": {},
   "source": [
    "Some of the popular languages that Data Scientists use are:\n",
    " 1. Python\n",
    " 2. R\n",
    " 3. Java"
   ]
  },
  {
   "cell_type": "markdown",
   "id": "8aee77d0-8647-4531-bc78-a137b4b9e8ec",
   "metadata": {},
   "source": [
    "Some of the commonly used libraries used by Data Scientists include:\n",
    " 1. Matplotlib\n",
    " 2. Pandas\n",
    " 3. Numpy"
   ]
  },
  {
   "cell_type": "markdown",
   "id": "ec32603a-ab48-455a-ae50-7f743b513500",
   "metadata": {},
   "source": [
    "| Data Science Tools |\n",
    "----------------------\n",
    "| Jupyter            |\n",
    "| R Studio           |\n",
    "| VS Code            |\n"
   ]
  },
  {
   "cell_type": "markdown",
   "id": "eec3930f-7493-4a22-8acd-38161d647219",
   "metadata": {},
   "source": [
    "### Below are a few examples of evaluating arithmetic expressions in Python"
   ]
  },
  {
   "cell_type": "code",
   "execution_count": 5,
   "id": "38a14bb3-2ad8-4056-af71-30a28be53a21",
   "metadata": {
    "tags": []
   },
   "outputs": [
    {
     "data": {
      "text/plain": [
       "17"
      ]
     },
     "execution_count": 5,
     "metadata": {},
     "output_type": "execute_result"
    }
   ],
   "source": [
    "# This is a simple arithmetic expression to multiply then add integers\n",
    "(3*4)+5"
   ]
  },
  {
   "cell_type": "code",
   "execution_count": 6,
   "id": "de82a7b7-3052-4a78-b606-faae67b94495",
   "metadata": {
    "tags": []
   },
   "outputs": [
    {
     "data": {
      "text/plain": [
       "3.3333333333333335"
      ]
     },
     "execution_count": 6,
     "metadata": {},
     "output_type": "execute_result"
    }
   ],
   "source": [
    "# This is to convert minutes to hours by dividing by 60\n",
    "minutes = 200\n",
    "minutes/60"
   ]
  }
 ],
 "metadata": {
  "kernelspec": {
   "display_name": "Python 3 (ipykernel)",
   "language": "python",
   "name": "python3"
  },
  "language_info": {
   "codemirror_mode": {
    "name": "ipython",
    "version": 3
   },
   "file_extension": ".py",
   "mimetype": "text/x-python",
   "name": "python",
   "nbconvert_exporter": "python",
   "pygments_lexer": "ipython3",
   "version": "3.11.5"
  }
 },
 "nbformat": 4,
 "nbformat_minor": 5
}
